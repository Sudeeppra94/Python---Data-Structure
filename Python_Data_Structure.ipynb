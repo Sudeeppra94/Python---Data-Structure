{
  "nbformat": 4,
  "nbformat_minor": 0,
  "metadata": {
    "colab": {
      "provenance": []
    },
    "kernelspec": {
      "name": "python3",
      "display_name": "Python 3"
    },
    "language_info": {
      "name": "python"
    }
  },
  "cells": [
    {
      "cell_type": "markdown",
      "source": [
        "#Data Types and Structures Questions\n",
        "\n"
      ],
      "metadata": {
        "id": "Br5cXoxClSaI"
      }
    },
    {
      "cell_type": "markdown",
      "source": [
        "Q1. What are data structures, and why are they important?\n",
        "   - Data structures are ways of organizing and storing data in a computer so that it can be accessed and manipulated efficiently. They are the foundation of computer science and play a key role in algorithms, software development, and system performance.\n",
        "   - Importance of Data Structures:\n",
        "       ->Efficiency: The right data structure can significantly reduce the time complexity of operations like searching, inserting, deleting, or updating data. For example, using a hash table instead of a list can make lookups faster.\n",
        "\n",
        "       ->Memory Management: Different data structures offer different ways of storing data. For instance, a linked list may be more memory-efficient when the number of elements is unknown or varies dynamically, compared to a fixed-size array.\n",
        "\n",
        "       ->Problem Solving: Data structures provide powerful ways to model and solve real-world problems. For instance, graphs can represent networks, trees can help with hierarchical data, and queues can manage task scheduling."
      ],
      "metadata": {
        "id": "aqBGBgE-l0Rm"
      }
    },
    {
      "cell_type": "markdown",
      "source": [
        "Q2.Explain the difference between mutable and immutable data types with examples?\n",
        "  - The difference between mutable and immutable data types lies in whether or not the value of the data type can be changed after it has been created.\n",
        "\n",
        "  - Here are some   differences\n",
        " between mutable and immutable data types:-\n",
        "  - Performance: If you need to modify data frequently, mutable data types are generally more efficient because they allow direct modifications. Immutable data types, however, require creating new objects with every modification, which could incur additional overhead.\n",
        "  - Safety and Threading: Immutable objects are often used when you need to ensure that data remains consistent and unchangeable, such as in multi-threaded environments where shared data should not be altered by multiple threads.\n",
        "  - Hashing: Immutable data types like tuples and strings can be used as keys in hash-based collections (e.g., dictionaries and sets), while mutable types like lists and sets cannot."
      ],
      "metadata": {
        "id": "XFKRZkMxnwdg"
      }
    },
    {
      "cell_type": "markdown",
      "source": [
        "Q3.What are the main differences between lists and tuples in Python?\n",
        "  - In Python, lists and tuples are both data structures used to store collections of items. While they share similarities, they have important differences. Below are the main differences between lists and tuples:\n",
        "\n",
        "1. Mutability\n",
        "  - Lists are mutable, meaning their contents can be changed after creation. You can add, remove, or modify elements in a list.\n",
        "Tuples are immutable, meaning once they are created, their contents cannot be modified. You cannot add, remove, or change elements of a tuple.\n",
        "2. Syntax\n",
        "  - Lists are defined using square brackets [].\n",
        "  - Tuples are defined using parentheses ().\n",
        "3. Performance\n",
        "  - Lists are generally slower than tuples for iteration and access, as they are mutable and require more overhead to manage changes.\n",
        "  - Tuples are faster because they are immutable and have less overhead in terms of memory and operations."
      ],
      "metadata": {
        "id": "hf2obdtyn4oY"
      }
    },
    {
      "cell_type": "markdown",
      "source": [
        "Q4. Describe how dictionaries store data?\n",
        "   - In Python, dictionaries are data structures that store data in key-value pairs. Each key is unique and maps to a specific value. Dictionaries are highly efficient for lookups, insertions, and deletions because of their underlying implementation. Here’s a detailed explanation of how dictionaries store data:\n",
        "   1. Key-Value Pairs\n",
        "   - A dictionary is composed of keys and values. Each key maps to a value, where the key acts as a unique identifier for the associated value.\n",
        "   2. Hashing Mechanism (How Keys are Stored)\n",
        "   - Internally, dictionaries use a technique called hashing to efficiently store and retrieve data. When a key is added to the dictionary, Python computes a hash value for the key using a built-in hash function.\n",
        "   - A hash function takes the key and returns a unique hash code (integer). This hash code determines where the key-value pair will be stored in memory.\n",
        "\n",
        "   - For example, if the key is \"name\", Python will hash this string and use the hash code to place the key-value pair at a specific location in an internal array (or table).\n",
        "   3. Handling Collisions\n",
        "   - Since a hash function maps keys to integer values (hash codes), it is possible for two different keys to produce the same hash code. This is known as a collision."
      ],
      "metadata": {
        "id": "BhTHnNtGn1S5"
      }
    },
    {
      "cell_type": "markdown",
      "source": [
        "Q5. Why might you use a set instead of a list in Python?\n",
        "   - In Python, sets and lists are both collections used to store data, but they have different characteristics that make them suited to different use cases. Here are several reasons why you might use a set instead of a list:\n",
        "   1. Uniqueness of Elements\n",
        "   - Sets automatically enforce uniqueness—they do not allow duplicate elements. If you try to add a duplicate element to a set, it will be ignored. This is useful when you need to ensure that no repeated items are present in the collection.\n",
        "   - Lists, on the other hand, allow duplicate elements, which can be a problem if you want to avoid storing repeated values.\n",
        "   2. Faster Membership Testing\n",
        "   - Sets provide O(1) average-time complexity for membership testing (i.e., checking if an element is in the set), which is significantly faster than - - lists, which have an average-time complexity of O(n) for membership tests.\n",
        "This makes sets ideal when you need to check whether an item is present in a collection frequently, as lookups are much faster in sets.\n",
        "   3. Set Operations\n",
        "   - Sets support efficient set operations such as union, intersection, difference, and symmetric difference. These operations are not natively supported by lists in Python.\n",
        "   - If you need to perform mathematical set operations (e.g., finding common elements, removing duplicates, or combining sets), a set is the more appropriate data structure."
      ],
      "metadata": {
        "id": "3lnTLJTYs1t2"
      }
    },
    {
      "cell_type": "markdown",
      "source": [
        "Q6. What is a string in Python, and how is it different from a list?\n",
        "   - In Python, a string is a sequence of characters enclosed in single quotes (') or double quotes (\"). Strings are used to represent text, such as \"hello\" or 'world'.\n",
        "   - while both strings and lists are sequences, strings are specialized for text and are immutable, whereas lists are more general-purpose and mutable, allowing them to store and manipulate collections of various data types.\n"
      ],
      "metadata": {
        "id": "VO2QUEKcuB-O"
      }
    },
    {
      "cell_type": "markdown",
      "source": [
        "Q7. How do tuples ensure data integrity in Python?\n",
        "  - Tuples in Python help ensure data integrity primarily through their immutability, which means their contents cannot be changed after they are created. This characteristic makes them ideal for representing fixed collections of data that should remain constant throughout the program.\n"
      ],
      "metadata": {
        "id": "lqQRWrrpwRSp"
      }
    },
    {
      "cell_type": "markdown",
      "source": [
        "Q8. What is a hash table, and how does it relate to dictionaries in Python?\n",
        "  - A hash table is a data structure that provides an efficient way to store and retrieve data using a key-value pair system. It works by applying a hash function to the keys, which maps them to indices in an underlying array. This allows for fast lookups, insertions, and deletions, typically in O(1) time on average.\n",
        "\n",
        "  - In Python, the dictionary (dict) is implemented using a hash table.\n"
      ],
      "metadata": {
        "id": "Rw2MnCR8w3ZY"
      }
    },
    {
      "cell_type": "markdown",
      "source": [
        "Q9. Can lists contain different data types in Python?\n",
        "  - Yes, lists in Python can contain elements of different data types. Python lists are highly flexible and can hold any type of object, including integers, floats, strings, other lists, dictionaries, tuples, and even custom objects.\n",
        "\n"
      ],
      "metadata": {
        "id": "1-vQUp5nxQco"
      }
    },
    {
      "cell_type": "markdown",
      "source": [
        "Q10. Explain why strings are immutable in Python?\n",
        "  - Strings in Python are immutable, meaning once a string is created, it cannot be changed. Any operation that appears to modify a string actually creates a new string. The immutability of strings is a deliberate design choice in Python, offering several benefits.\n",
        "  - Reasons for String Immutability:\n",
        "    - Memory Efficiency:  Strings are heavily used in programming, often as keys in dictionaries or elements in sets. Immutability allows strings to be hashable, enabling fast lookups in hash tables.\n",
        "    - Simplified Design: Immutable strings simplify the implementation of the language and reduce potential bugs.\n",
        "    - Security: Immutability provides a layer of security. For example, strings are often used to store sensitive information like passwords, and immutability ensures that the original data cannot be altered unintentionally.\n"
      ],
      "metadata": {
        "id": "8w90qa8sx2v-"
      }
    },
    {
      "cell_type": "markdown",
      "source": [
        "Q11. What advantages do dictionaries offer over lists for certain tasks?\n",
        "  - Here are some of the key advantages:\n",
        "    - Fast Lookups (O(1) Average Case):\n",
        "      - Dictionaries use a hash table under the hood, enabling constant-time lookups on average for retrieving values by key.\n",
        "      - In contrast, searching for an element in a list requires a linear search, which has O(n) time complexity.\n",
        "    - Association of Data (Key-Value Pairs):\n",
        "      - Dictionaries inherently associate keys with values, making them more expressive and intuitive when mapping related data.\n",
        "      - Lists, on the other hand, only store individual elements or nested collections.\n",
        "    - Unique Keys:\n",
        "      - Dictionaries enforce unique keys, which helps ensure data consistency.\n",
        "      - Lists allow duplicate elements, making it harder to enforce uniqueness without additional processing.\n"
      ],
      "metadata": {
        "id": "JjvPKuEjzY7J"
      }
    },
    {
      "cell_type": "markdown",
      "source": [
        "Q12. Describe a scenario where using a tuple would be preferable over a list?\n",
        "  - Using a tuple is preferable over a list in scenarios where immutability is important, meaning the data should remain constant and unaltered. Here are some specific situations:\n",
        "  - Data Integrity in Fixed Collections:\n",
        "    - If you have a collection of items that should not change, such as coordinates, RGB color values, or configuration settings, tuples are a better choice because they prevent accidental modification.\n",
        "  - Dictionary Keys or Set Elements:\n",
        "    - Since tuples are hashable (if all their elements are hashable), they can be used as keys in dictionaries or elements in sets. Lists, being mutable, are not hashable and cannot serve this purpose.\n",
        "  - Performance Optimization:\n",
        "    - Tuples are generally more memory-efficient and faster than lists, especially when working with large or frequently accessed collections of data that do not require modification.\n"
      ],
      "metadata": {
        "id": "VzXFvcC_0mN2"
      }
    },
    {
      "cell_type": "markdown",
      "source": [
        "Q13. How do sets handle duplicate values in Python?\n",
        "  - In Python, sets automatically handle duplicate values by ensuring that each element in the set is unique. When you attempt to add a duplicate value to a set, it is ignored, and the set remains unchanged.\n"
      ],
      "metadata": {
        "id": "6w7l3-1H1Tvc"
      }
    },
    {
      "cell_type": "markdown",
      "source": [
        "Q14. How does the “in” keyword work differently for lists and dictionaries?\n",
        "   - The in keyword in Python is used to check for membership in a collection. While its purpose is the same for both lists and dictionaries, the way it works and what it checks for differ significantly.\n",
        "   - Lists: in checks if a value exists in the list, performing a linear search.\n",
        "   - Dictionaries: in checks for the presence of a key by default, with efficient hash-based lookup.\n",
        "  - To check for values or key-value pairs in dictionaries, you must explicitly use .values() or .items().\n",
        "\n"
      ],
      "metadata": {
        "id": "M9ZVbQWr1mRp"
      }
    },
    {
      "cell_type": "markdown",
      "source": [
        "Q15.Can you modify the elements of a tuple? Explain why or why not?\n",
        "  - you cannot modify the elements of a tuple in Python because tuples are immutable.\n",
        "  - Here are some reason why you cannot modify elements of tuples:-\n",
        "  - Immutability by Design:\n",
        "    - Tuples : immutable data structures in Python, meaning their memory representation is fixed after creation.\n",
        "This design choice ensures that tuples are hashable (if their elements are also hashable), making them usable as dictionary keys and set elements.\n",
        "  - Safety and Integrity:\n",
        "    - Immutability prevents accidental modification of data, ensuring that critical collections remain consistent throughout a program.\n",
        "  - Optimization:\n",
        "    - Immutable objects like tuples are optimized for performance. Since their values cannot change, Python can store and manage them more efficiently in memory.\n"
      ],
      "metadata": {
        "id": "cYE1Au8r2eg6"
      }
    },
    {
      "cell_type": "markdown",
      "source": [
        "Q16. What is a nested dictionary, and give an example of its use case?\n",
        "  - A nested dictionary is a dictionary in Python where the values themselves are dictionaries. Essentially, it's a dictionary inside another dictionary, allowing you to model more complex, hierarchical data structures.\n",
        "  - Storing Multiple Levels of Attributes: Nested dictionaries allow you to store multiple levels of attributes for an entity, such as products in an e-commerce platform where each product has attributes like price, category, and stock information.\n",
        "  Example: A store with different product categories and individual products:\n"
      ],
      "metadata": {
        "id": "CSRSoK4Y3pi5"
      }
    },
    {
      "cell_type": "code",
      "source": [
        "store = {\n",
        "    \"Electronics\": {\n",
        "        \"Laptop\": {\"price\": 1000, \"stock\": 50},\n",
        "        \"Smartphone\": {\"price\": 700, \"stock\": 100}\n",
        "    },\n",
        "    \"Clothing\": {\n",
        "        \"T-shirt\": {\"price\": 20, \"stock\": 200},\n",
        "        \"Jeans\": {\"price\": 40, \"stock\": 150}\n",
        "    }\n",
        "}\n",
        "\n",
        "# Accessing the price of a Laptop\n",
        "print(store[\"Electronics\"][\"Laptop\"][\"price\"])  # Output: 1000\n"
      ],
      "metadata": {
        "id": "P7M788CY47FA"
      },
      "execution_count": null,
      "outputs": []
    },
    {
      "cell_type": "markdown",
      "source": [
        "Q17. Describe the time complexity of accessing elements in a dictionary?\n",
        "  - The time complexity of accessing elements in a dictionary in Python is typically O(1), meaning that dictionary lookups are very fast, regardless of the number of items in the dictionary. This constant time complexity is a key feature of Python's hash table implementation for dictionaries.\n"
      ],
      "metadata": {
        "id": "-jtKZDOr484V"
      }
    },
    {
      "cell_type": "markdown",
      "source": [
        "Q18. In what situations are lists preferred over dictionaries?\n",
        "  - When to Prefer Dictionaries Instead of Lists:\n",
        "  - While lists are preferred in the above situations, dictionaries are more suitable when:\n",
        "    - You need to store data in key-value pairs.\n",
        "    - You need fast lookup by key (O(1) average time complexity).\n",
        "    - You want to ensure uniqueness of the keys.\n",
        "    - You need to model more complex relationships between data (e.g., associating attributes with items).\n"
      ],
      "metadata": {
        "id": "QQQKzzz75bnG"
      }
    },
    {
      "cell_type": "markdown",
      "source": [
        "Q19. Why are dictionaries considered unordered, and how does that affect data retrieval?\n",
        "  -  In Python, dictionaries are considered unordered because, prior to Python 3.7, the order of key-value pairs in a dictionary was not guaranteed. The dictionary would store the data based on the internal hash values of the keys, and as a result, the order in which elements were inserted could be unpredictable.\n",
        "  - Effect of \"Unordered\" on Data Retrieval:\n",
        "    - Access by Key:\n",
        "      - Efficient Lookups: You can still access values in a dictionary very efficiently by their keys, and this lookup operation is O(1) on average. The order of the keys does not affect retrieval by key.\n",
        "    - Iterating Over a Dictionary:\n",
        "      - While Python 3.7+ dictionaries maintain insertion order, iterating over a dictionary still involves iterating over the keys in the order they were added. However, relying on this behavior for logic that depends on ordering is not the primary intended use for dictionaries.\n",
        "    - Unpredictable Order Before Python 3.7:\n",
        "      - Before Python 3.7, if you needed a specific order for the elements in your dictionary, you couldn't rely on the dictionary itself. If you needed to iterate in a particular order, you'd have to explicitly sort the keys or values.\n"
      ],
      "metadata": {
        "id": "d6D7UDnh6NFc"
      }
    },
    {
      "cell_type": "markdown",
      "source": [
        "Q20. Explain the difference between a list and a dictionary in terms of data retrieval?\n",
        "   - The primary difference between a list and a dictionary in terms of data retrieval lies in how the data is accessed, the structure of the data, and the time complexity of retrieving elements. Here's a breakdown:\n",
        "   - Access Method:\n",
        "     - List: Data is accessed by index (position in the list).\n",
        "       - The elements in a list are ordered, and each element has a corresponding index (starting from 0).\n",
        "       - To retrieve an item, you specify its index, and the item is returned.\n",
        "     - Dictionary: Data is accessed by key (not position).\n",
        "       - A dictionary stores data as key-value pairs, where each key maps to a value.\n",
        "       - To retrieve an item, you specify the key, and the value associated with that key is returned\n",
        "   - Order of Data:\n",
        "    - List: A list maintains the order of elements. The order of elements is determined by their position in the list. You can access elements in the order they were added.\n",
        "\n",
        "    - Dictionary: A dictionary is unordered (prior to Python 3.7) or maintains insertion order (from Python 3.7+). The data retrieval in dictionaries is based on keys rather than position.\n"
      ],
      "metadata": {
        "id": "Tcg6jccS7eKj"
      }
    },
    {
      "cell_type": "markdown",
      "source": [
        "#Practical questions"
      ],
      "metadata": {
        "id": "lCzSkR208zoQ"
      }
    },
    {
      "cell_type": "code",
      "source": [
        "#1 Write a code to create a string with your name and print it?\n",
        "\n",
        "my_name = \"Sudeep\"\n",
        "\n",
        "print(my_name)\n",
        "\n"
      ],
      "metadata": {
        "colab": {
          "base_uri": "https://localhost:8080/"
        },
        "id": "Rm9a3oyp9GsV",
        "outputId": "0a711b2f-3bdc-4c3c-a5ab-6c590608020a"
      },
      "execution_count": 1,
      "outputs": [
        {
          "output_type": "stream",
          "name": "stdout",
          "text": [
            "Sudeep\n"
          ]
        }
      ]
    },
    {
      "cell_type": "code",
      "source": [
        "#2 Write a code to find the length of the string \"Hello World\"?\n",
        "string = \"Hello World\"\n",
        "len(string)\n",
        "\n",
        "\n"
      ],
      "metadata": {
        "colab": {
          "base_uri": "https://localhost:8080/"
        },
        "id": "TIyichnT9ZSd",
        "outputId": "019df9df-5754-4435-ff67-e7ffaf440bce"
      },
      "execution_count": 2,
      "outputs": [
        {
          "output_type": "execute_result",
          "data": {
            "text/plain": [
              "11"
            ]
          },
          "metadata": {},
          "execution_count": 2
        }
      ]
    },
    {
      "cell_type": "code",
      "source": [
        "#3 Write a code to slice the first 3 characters from the string \"Python Programming\"?\n",
        "a = \"My name is sudeep\"\n",
        "a[1:5]"
      ],
      "metadata": {
        "colab": {
          "base_uri": "https://localhost:8080/",
          "height": 35
        },
        "id": "lw9nfbTz99lM",
        "outputId": "629adeb6-4547-4554-bfa5-6c621af68eb7"
      },
      "execution_count": 3,
      "outputs": [
        {
          "output_type": "execute_result",
          "data": {
            "text/plain": [
              "'y na'"
            ],
            "application/vnd.google.colaboratory.intrinsic+json": {
              "type": "string"
            }
          },
          "metadata": {},
          "execution_count": 3
        }
      ]
    },
    {
      "cell_type": "code",
      "source": [
        "a[0: ]"
      ],
      "metadata": {
        "colab": {
          "base_uri": "https://localhost:8080/",
          "height": 35
        },
        "id": "K3UEKcQU-9hi",
        "outputId": "a9c7b35d-8ee8-4d3a-d613-86005e69ae92"
      },
      "execution_count": 4,
      "outputs": [
        {
          "output_type": "execute_result",
          "data": {
            "text/plain": [
              "'My name is sudeep'"
            ],
            "application/vnd.google.colaboratory.intrinsic+json": {
              "type": "string"
            }
          },
          "metadata": {},
          "execution_count": 4
        }
      ]
    },
    {
      "cell_type": "code",
      "source": [
        "a[ :14]"
      ],
      "metadata": {
        "colab": {
          "base_uri": "https://localhost:8080/",
          "height": 35
        },
        "id": "E8sDILZf_EdF",
        "outputId": "bf2ce839-add2-432b-880b-b10343a482a5"
      },
      "execution_count": 5,
      "outputs": [
        {
          "output_type": "execute_result",
          "data": {
            "text/plain": [
              "'My name is sud'"
            ],
            "application/vnd.google.colaboratory.intrinsic+json": {
              "type": "string"
            }
          },
          "metadata": {},
          "execution_count": 5
        }
      ]
    },
    {
      "cell_type": "code",
      "source": [
        "#4 Write a code to convert the string \"hello\" to uppercase?\n",
        "str = \"hello\"\n",
        "str.upper()\n"
      ],
      "metadata": {
        "colab": {
          "base_uri": "https://localhost:8080/",
          "height": 35
        },
        "id": "mLvxfO00_MW7",
        "outputId": "47d5422f-1703-46c0-a03c-5d48afd4a66c"
      },
      "execution_count": 6,
      "outputs": [
        {
          "output_type": "execute_result",
          "data": {
            "text/plain": [
              "'HELLO'"
            ],
            "application/vnd.google.colaboratory.intrinsic+json": {
              "type": "string"
            }
          },
          "metadata": {},
          "execution_count": 6
        }
      ]
    },
    {
      "cell_type": "code",
      "source": [
        "#5 Write a code to replace the word \"apple\" with \"orange\" in the string \"I like apple\"?\n",
        "s = \"I like apple\"\n",
        "s.replace(\"apple\",\"orange\")\n"
      ],
      "metadata": {
        "colab": {
          "base_uri": "https://localhost:8080/",
          "height": 35
        },
        "id": "I_yFbjst_Q13",
        "outputId": "0d4464c9-e3f5-4a57-cad4-9a8a82826531"
      },
      "execution_count": 7,
      "outputs": [
        {
          "output_type": "execute_result",
          "data": {
            "text/plain": [
              "'I like orange'"
            ],
            "application/vnd.google.colaboratory.intrinsic+json": {
              "type": "string"
            }
          },
          "metadata": {},
          "execution_count": 7
        }
      ]
    },
    {
      "cell_type": "code",
      "source": [
        "#6 Write a code to create a list with numbers 1 to 5 and print it?\n",
        "list = [1,2,3,4,5]\n",
        "print(list)\n"
      ],
      "metadata": {
        "colab": {
          "base_uri": "https://localhost:8080/"
        },
        "id": "5VOqtnvx_1Kf",
        "outputId": "9810c538-a125-414d-b4f9-05f9aa4e2f7b"
      },
      "execution_count": 8,
      "outputs": [
        {
          "output_type": "stream",
          "name": "stdout",
          "text": [
            "[1, 2, 3, 4, 5]\n"
          ]
        }
      ]
    },
    {
      "cell_type": "code",
      "source": [
        "#7 Write a code to append the number 10 to the list [1, 2, 3, 4]?\n",
        "list = [1,2,3,4]\n",
        "list.append(10)\n",
        "print(list)\n"
      ],
      "metadata": {
        "colab": {
          "base_uri": "https://localhost:8080/"
        },
        "id": "FHtay7F8AFdY",
        "outputId": "980f00af-4465-443d-b63b-d22b8fdf31a5"
      },
      "execution_count": 9,
      "outputs": [
        {
          "output_type": "stream",
          "name": "stdout",
          "text": [
            "[1, 2, 3, 4, 10]\n"
          ]
        }
      ]
    },
    {
      "cell_type": "code",
      "source": [
        "#8 Write a code to remove the number 3 from the list [1, 2, 3, 4, 5]?\n",
        "list = [1,2,3,4,5]\n",
        "list.remove(3)\n",
        "print(list)\n",
        "\n"
      ],
      "metadata": {
        "colab": {
          "base_uri": "https://localhost:8080/"
        },
        "id": "2QU78IStAL0i",
        "outputId": "f9c715c7-e88f-4b9c-e977-bb6179f7713d"
      },
      "execution_count": 10,
      "outputs": [
        {
          "output_type": "stream",
          "name": "stdout",
          "text": [
            "[1, 2, 4, 5]\n"
          ]
        }
      ]
    },
    {
      "cell_type": "code",
      "source": [
        "#9 Write a code to access the second element in the list ['a', 'b', 'c', 'd']?\n",
        "list = ['a', 'b', 'c', 'd']\n",
        "list[1]\n"
      ],
      "metadata": {
        "colab": {
          "base_uri": "https://localhost:8080/",
          "height": 35
        },
        "id": "vQbT1ktfAUgR",
        "outputId": "4860a5ae-380c-45fd-d142-4e3c447aecb2"
      },
      "execution_count": 11,
      "outputs": [
        {
          "output_type": "execute_result",
          "data": {
            "text/plain": [
              "'b'"
            ],
            "application/vnd.google.colaboratory.intrinsic+json": {
              "type": "string"
            }
          },
          "metadata": {},
          "execution_count": 11
        }
      ]
    },
    {
      "cell_type": "code",
      "source": [
        "#10 Write a code to reverse the list [10, 20, 30, 40, 50]?\n",
        "list = [10, 20, 30, 40, 50]\n",
        "list.reverse()\n",
        "print(list)"
      ],
      "metadata": {
        "colab": {
          "base_uri": "https://localhost:8080/"
        },
        "id": "7WNm3TMaAcET",
        "outputId": "91495c4e-c02c-4139-a815-43d02fb58295"
      },
      "execution_count": 12,
      "outputs": [
        {
          "output_type": "stream",
          "name": "stdout",
          "text": [
            "[50, 40, 30, 20, 10]\n"
          ]
        }
      ]
    },
    {
      "cell_type": "code",
      "source": [
        "#11 Write a code to create a tuple with the elements 10, 20, 30 and print it?\n",
        "tuple = (10,20,30)\n",
        "print(tuple)"
      ],
      "metadata": {
        "colab": {
          "base_uri": "https://localhost:8080/"
        },
        "id": "qrV-YB81Ah7j",
        "outputId": "b8b6d770-713a-46a4-8678-8d56c636f4b6"
      },
      "execution_count": 13,
      "outputs": [
        {
          "output_type": "stream",
          "name": "stdout",
          "text": [
            "(10, 20, 30)\n"
          ]
        }
      ]
    },
    {
      "cell_type": "code",
      "source": [
        "#12. Write a code to access the first element of the tuple ('apple', 'banana', 'cherry')?\n",
        "tuple = ('apple', 'banana', 'cherry')\n",
        "tuple[0]"
      ],
      "metadata": {
        "colab": {
          "base_uri": "https://localhost:8080/",
          "height": 35
        },
        "id": "NR-40ih3ApRR",
        "outputId": "3d62b5c4-4f15-4a7b-ef7a-96c16e6d8027"
      },
      "execution_count": 14,
      "outputs": [
        {
          "output_type": "execute_result",
          "data": {
            "text/plain": [
              "'apple'"
            ],
            "application/vnd.google.colaboratory.intrinsic+json": {
              "type": "string"
            }
          },
          "metadata": {},
          "execution_count": 14
        }
      ]
    },
    {
      "cell_type": "code",
      "source": [
        "#13. Write a code to count how many times the number 2 appears in the tuple (1, 2, 3, 2, 4, 2)?\n",
        "tuple = (1, 2, 3, 2, 4, 2)\n",
        "tuple.count(2)"
      ],
      "metadata": {
        "colab": {
          "base_uri": "https://localhost:8080/"
        },
        "id": "G83XX9A2AuZf",
        "outputId": "cb851d93-b913-48df-dd9d-3a17ab012644"
      },
      "execution_count": 15,
      "outputs": [
        {
          "output_type": "execute_result",
          "data": {
            "text/plain": [
              "3"
            ]
          },
          "metadata": {},
          "execution_count": 15
        }
      ]
    },
    {
      "cell_type": "code",
      "source": [
        "#14. Write a code to find the index of the element \"cat\" in the tuple ('dog', 'cat', 'rabbit')?\n",
        "tuple = ('dog', 'cat', 'rabbit')\n",
        "tuple.index('cat')"
      ],
      "metadata": {
        "colab": {
          "base_uri": "https://localhost:8080/"
        },
        "id": "mb2RosqNA1o_",
        "outputId": "3e61a43f-04c6-4fcb-b2a0-028226222901"
      },
      "execution_count": 16,
      "outputs": [
        {
          "output_type": "execute_result",
          "data": {
            "text/plain": [
              "1"
            ]
          },
          "metadata": {},
          "execution_count": 16
        }
      ]
    },
    {
      "cell_type": "code",
      "source": [
        "#15. Write a code to check if the element \"banana\" is in the tuple ('apple', 'orange', 'banana')?\n",
        "tuple = ('apple', 'orange', 'banana')\n",
        "'banana' in tuple"
      ],
      "metadata": {
        "colab": {
          "base_uri": "https://localhost:8080/"
        },
        "id": "3Y8iX0byA6yv",
        "outputId": "f55bfea1-1570-4e20-97d0-73f675b26a72"
      },
      "execution_count": 17,
      "outputs": [
        {
          "output_type": "execute_result",
          "data": {
            "text/plain": [
              "True"
            ]
          },
          "metadata": {},
          "execution_count": 17
        }
      ]
    },
    {
      "cell_type": "code",
      "source": [
        "#16. Write a code to create a set with the elements 1, 2, 3, 4, 5 and print it?\n",
        "set = {1,2,3,4,5}\n",
        "print(set)"
      ],
      "metadata": {
        "colab": {
          "base_uri": "https://localhost:8080/"
        },
        "id": "aTT0fZNxBAAA",
        "outputId": "ecf53000-66f9-4c91-de7b-7753a4242187"
      },
      "execution_count": 18,
      "outputs": [
        {
          "output_type": "stream",
          "name": "stdout",
          "text": [
            "{1, 2, 3, 4, 5}\n"
          ]
        }
      ]
    },
    {
      "cell_type": "code",
      "source": [
        "#17. Write a code to add the element 6 to the set {1, 2, 3, 4}?\n",
        "set = {1, 2, 3, 4}\n",
        "set.add(6)\n",
        "print(set)"
      ],
      "metadata": {
        "colab": {
          "base_uri": "https://localhost:8080/"
        },
        "id": "2EZaHv0aBELz",
        "outputId": "a369fa1c-84fd-42f5-856f-e373c2f0b022"
      },
      "execution_count": 19,
      "outputs": [
        {
          "output_type": "stream",
          "name": "stdout",
          "text": [
            "{1, 2, 3, 4, 6}\n"
          ]
        }
      ]
    },
    {
      "cell_type": "code",
      "source": [
        "#18. Write a code to create a tuple with the elements 10, 20, 30 and print it?\n",
        "tuple = (10,20,30)\n",
        "print(tuple)"
      ],
      "metadata": {
        "colab": {
          "base_uri": "https://localhost:8080/"
        },
        "id": "CzQFUENVBIR_",
        "outputId": "4082d303-f04c-433c-c15b-5778d7917fe7"
      },
      "execution_count": 20,
      "outputs": [
        {
          "output_type": "stream",
          "name": "stdout",
          "text": [
            "(10, 20, 30)\n"
          ]
        }
      ]
    },
    {
      "cell_type": "code",
      "source": [
        "#19. Write a code to access the first element of the tuple ('apple', 'banana', 'cherry')?\n",
        "tuple = ('apple', 'banana', 'cherry')\n",
        "tuple[0]"
      ],
      "metadata": {
        "colab": {
          "base_uri": "https://localhost:8080/",
          "height": 35
        },
        "id": "Ux_2HdPUBNf3",
        "outputId": "b1fd4d97-834f-4575-d73d-40cce6d0d037"
      },
      "execution_count": 21,
      "outputs": [
        {
          "output_type": "execute_result",
          "data": {
            "text/plain": [
              "'apple'"
            ],
            "application/vnd.google.colaboratory.intrinsic+json": {
              "type": "string"
            }
          },
          "metadata": {},
          "execution_count": 21
        }
      ]
    },
    {
      "cell_type": "code",
      "source": [
        "#20. Write a code to count how many times the number 2 appears in the tuple (1, 2, 3, 2, 4, 2)?\n",
        "tuple = (1, 2, 3, 2, 4, 2)\n",
        "tuple.count(2)"
      ],
      "metadata": {
        "colab": {
          "base_uri": "https://localhost:8080/"
        },
        "id": "Lxs9ZpJvBTWo",
        "outputId": "4413f546-3bfb-474f-82a3-027b2ab5fb62"
      },
      "execution_count": 22,
      "outputs": [
        {
          "output_type": "execute_result",
          "data": {
            "text/plain": [
              "3"
            ]
          },
          "metadata": {},
          "execution_count": 22
        }
      ]
    },
    {
      "cell_type": "code",
      "source": [
        "#21. Write a code to find the index of the element \"cat\" in the tuple ('dog', 'cat', 'rabbit').\n",
        "tuple = ('dog', 'cat', 'rabbit')\n",
        "tuple.index('cat')"
      ],
      "metadata": {
        "colab": {
          "base_uri": "https://localhost:8080/"
        },
        "id": "UKFV8PixBXzs",
        "outputId": "4fe64b27-722a-44be-d5d6-1d1f89e77843"
      },
      "execution_count": 23,
      "outputs": [
        {
          "output_type": "execute_result",
          "data": {
            "text/plain": [
              "1"
            ]
          },
          "metadata": {},
          "execution_count": 23
        }
      ]
    },
    {
      "cell_type": "code",
      "source": [
        "#22. Write a code to check if the element \"banana\" is in the tuple ('apple', 'orange', 'banana').\n",
        "tuple = ('apple', 'orange', 'banana')\n",
        "'banana' in tuple"
      ],
      "metadata": {
        "colab": {
          "base_uri": "https://localhost:8080/"
        },
        "id": "Ig5x7bC2BdOF",
        "outputId": "9167f885-35f9-45fd-c6c7-84abd823b1a9"
      },
      "execution_count": 24,
      "outputs": [
        {
          "output_type": "execute_result",
          "data": {
            "text/plain": [
              "True"
            ]
          },
          "metadata": {},
          "execution_count": 24
        }
      ]
    },
    {
      "cell_type": "code",
      "source": [
        "#23. Write a code to create a set with the elements 1, 2, 3, 4, 5 and print it?\n",
        "set = {1,2,3,4,5}\n",
        "print(set)\n",
        "\n"
      ],
      "metadata": {
        "colab": {
          "base_uri": "https://localhost:8080/"
        },
        "id": "uaKePgKLBhJW",
        "outputId": "4d46ff76-a37f-42d6-92ce-84d5b3536b1f"
      },
      "execution_count": 26,
      "outputs": [
        {
          "output_type": "stream",
          "name": "stdout",
          "text": [
            "{1, 2, 3, 4, 5}\n"
          ]
        }
      ]
    },
    {
      "cell_type": "code",
      "source": [
        "#24. Write a code to add the element 6 to the set {1, 2, 3, 4}.\n",
        "set = {1, 2, 3, 4}\n",
        "set.add(6)\n",
        "print(set)\n"
      ],
      "metadata": {
        "colab": {
          "base_uri": "https://localhost:8080/"
        },
        "id": "eNEJXGLBBqSE",
        "outputId": "a7f181b9-09c2-4104-91dd-45cbe1feef38"
      },
      "execution_count": 27,
      "outputs": [
        {
          "output_type": "stream",
          "name": "stdout",
          "text": [
            "{1, 2, 3, 4, 6}\n"
          ]
        }
      ]
    },
    {
      "cell_type": "code",
      "source": [],
      "metadata": {
        "id": "SRpALDRXB_4E"
      },
      "execution_count": null,
      "outputs": []
    }
  ]
}